{
 "cells": [
  {
   "cell_type": "code",
   "execution_count": 1,
   "metadata": {},
   "outputs": [
    {
     "name": "stdout",
     "output_type": "stream",
     "text": [
      "2025-04-02 11:39:39,131 - matplotlib - DEBUG - __init__ - wrapper - 342 - matplotlib data path: /home/robby/miniconda3/envs/myocr/lib/python3.11/site-packages/matplotlib/mpl-data\n",
      "2025-04-02 11:39:39,135 - matplotlib - DEBUG - __init__ - wrapper - 342 - CONFIGDIR=/home/robby/.config/matplotlib\n",
      "2025-04-02 11:39:39,139 - matplotlib - DEBUG - __init__ - <module> - 1557 - interactive is False\n",
      "2025-04-02 11:39:39,139 - matplotlib - DEBUG - __init__ - <module> - 1558 - platform is linux\n",
      "2025-04-02 11:39:39,160 - matplotlib - DEBUG - __init__ - wrapper - 342 - CACHEDIR=/home/robby/.cache/matplotlib\n",
      "2025-04-02 11:39:39,161 - matplotlib.font_manager - DEBUG - font_manager - _load_fontmanager - 1635 - Using fontManager instance from /home/robby/.cache/matplotlib/fontlist-v390.json\n",
      "2025-04-02 11:39:39,232 - PIL.PngImagePlugin - DEBUG - PngImagePlugin - call - 198 - STREAM b'IHDR' 16 13\n",
      "2025-04-02 11:39:39,233 - PIL.PngImagePlugin - DEBUG - PngImagePlugin - call - 198 - STREAM b'iCCP' 41 3134\n",
      "2025-04-02 11:39:39,233 - PIL.PngImagePlugin - DEBUG - PngImagePlugin - chunk_iCCP - 428 - iCCP profile name b'ICC Profile'\n",
      "2025-04-02 11:39:39,233 - PIL.PngImagePlugin - DEBUG - PngImagePlugin - chunk_iCCP - 430 - Compression method 0\n",
      "2025-04-02 11:39:39,233 - PIL.PngImagePlugin - DEBUG - PngImagePlugin - call - 198 - STREAM b'eXIf' 3187 56\n",
      "2025-04-02 11:39:39,233 - PIL.PngImagePlugin - DEBUG - PngImagePlugin - call - 198 - STREAM b'IDAT' 3255 16384\n",
      "2025-04-02 11:39:39,302 - myocr.modeling.model - INFO - model - load - 126 - Onnx model /home/robby/.MyOCR/models/dbnet++.onnx loaded to cuda:0,\n",
      "                    input output info: {'inputs': {'x': {'shape': ['p2o.DynamicDimension.0', 3, 'p2o.DynamicDimension.1', 'p2o.DynamicDimension.2'], 'type': 'tensor(float)'}}, 'outputs': {'sigmoid_0.tmp_0': {'shape': ['p2o.DynamicDimension.3', 1, 'p2o.DynamicDimension.4', 'p2o.DynamicDimension.5'], 'type': 'tensor(float)'}}}\n",
      "2025-04-02 11:39:39,324 - myocr.modeling.model - INFO - model - load - 126 - Onnx model /home/robby/.MyOCR/models/crnn_lite_lstm.onnx loaded to cuda:0,\n",
      "                    input output info: {'inputs': {'input': {'shape': ['batch_size', 3, 32, 'img_w'], 'type': 'tensor(float)'}}, 'outputs': {'out': {'shape': [64, 1, 5531], 'type': 'tensor(float)'}}}\n",
      "2025-04-02 11:39:39,450 - myocr.predictors.text_detection_predictor - DEBUG - text_detection_predictor - convert_output - 46 - text detection output shape: (928, 1600)\n"
     ]
    },
    {
     "name": "stderr",
     "output_type": "stream",
     "text": [
      "/home/robby/miniconda3/envs/myocr/lib/python3.11/site-packages/onnxruntime/capi/onnxruntime_inference_collection.py:118: UserWarning: Specified provider 'CUDAExecutionProvider' is not in available provider names.Available providers: 'AzureExecutionProvider, CPUExecutionProvider'\n",
      "  warnings.warn(\n"
     ]
    },
    {
     "name": "stdout",
     "output_type": "stream",
     "text": [
      "Nothing detected\n"
     ]
    }
   ],
   "source": [
    "import time\n",
    "import torch\n",
    "from PIL import Image,ImageDraw\n",
    "from myocr.config import MODEL_PATH\n",
    "from myocr.modeling.model import ModelZoo\n",
    "from myocr.predictors.text_detection_predictor import TextDetectionParamConverter\n",
    "from myocr.predictors.text_recognition_predictor import TextRecognitionParamConverter\n",
    "\n",
    "orig_image = Image.open(\"../../tests/images/flower.png\").convert(\"RGB\")\n",
    "\n",
    "dec = ModelZoo.load_model(\"onnx\", MODEL_PATH+\"dbnet++.onnx\", \"cuda:0\" if torch.cuda.is_available() else \"cpu\")\n",
    "model = ModelZoo.load_model(\"onnx\", MODEL_PATH+\"crnn_lite_lstm.onnx\", \"cuda:0\" if torch.cuda.is_available() else \"cpu\")\n",
    "\n",
    "start_time = time.time()\n",
    "dec_predictor = dec.predictor(TextDetectionParamConverter(dec.device))\n",
    "detected = dec_predictor.predict(orig_image)\n",
    "if not detected:\n",
    "    print(\"Nothing detected\")\n",
    "else:\n",
    "    cvt = TextRecognitionParamConverter()\n",
    "    p = model.predictor(cvt)\n",
    "    rec = p.predict(detected)\n",
    "    ent_time = time.time()\n",
    "    print(f\"predict cost: {ent_time-start_time} \\nresult:{rec}\")\n",
    "    draw = ImageDraw.Draw(orig_image)\n",
    "    for box in detected.bounding_boxes: # type: ignore\n",
    "        draw.polygon(\n",
    "            [(box.left, box.bottom), (box.left, box.top), (box.right, box.top), (box.right, box.bottom)],\n",
    "            outline=\"red\",\n",
    "            width=2,\n",
    "        )\n",
    "\n",
    "    display(orig_image)\n",
    "    if cvt.retain_croped_imgs:\n",
    "        for img in cvt.croped_imgs:\n",
    "            display(img)\n",
    "\n",
    "\n"
   ]
  }
 ],
 "metadata": {
  "kernelspec": {
   "display_name": "myocr",
   "language": "python",
   "name": "python3"
  },
  "language_info": {
   "codemirror_mode": {
    "name": "ipython",
    "version": 3
   },
   "file_extension": ".py",
   "mimetype": "text/x-python",
   "name": "python",
   "nbconvert_exporter": "python",
   "pygments_lexer": "ipython3",
   "version": "3.11.11"
  }
 },
 "nbformat": 4,
 "nbformat_minor": 2
}
