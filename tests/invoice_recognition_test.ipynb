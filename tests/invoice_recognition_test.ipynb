{
 "cells": [
  {
   "cell_type": "code",
   "execution_count": 1,
   "metadata": {},
   "outputs": [
    {
     "name": "stdout",
     "output_type": "stream",
     "text": [
      "2025-03-31 17:01:40,997 - myocr.models.model - INFO - model - load - 114 - Onnx model /home/robby/.MyOCR/models/dbnet++.onnx loaded to cuda:0,\n",
      "                    input output info: {'inputs': {'x': {'shape': ['p2o.DynamicDimension.0', 3, 'p2o.DynamicDimension.1', 'p2o.DynamicDimension.2'], 'type': 'tensor(float)'}}, 'outputs': {'sigmoid_0.tmp_0': {'shape': ['p2o.DynamicDimension.3', 1, 'p2o.DynamicDimension.4', 'p2o.DynamicDimension.5'], 'type': 'tensor(float)'}}}\n",
      "2025-03-31 17:01:41,016 - myocr.models.model - INFO - model - load - 114 - Onnx model /home/robby/.MyOCR/models/crnn_lite_lstm.onnx loaded to cuda:0,\n",
      "                    input output info: {'inputs': {'input': {'shape': ['batch_size', 3, 32, 'img_w'], 'type': 'tensor(float)'}}, 'outputs': {'out': {'shape': [64, 1, 5531], 'type': 'tensor(float)'}}}\n",
      "2025-03-31 17:01:41,030 - PIL.PngImagePlugin - DEBUG - PngImagePlugin - call - 198 - STREAM b'IHDR' 16 13\n",
      "2025-03-31 17:01:41,031 - PIL.PngImagePlugin - DEBUG - PngImagePlugin - call - 198 - STREAM b'iCCP' 41 3135\n",
      "2025-03-31 17:01:41,031 - PIL.PngImagePlugin - DEBUG - PngImagePlugin - chunk_iCCP - 428 - iCCP profile name b'ICC Profile'\n",
      "2025-03-31 17:01:41,031 - PIL.PngImagePlugin - DEBUG - PngImagePlugin - chunk_iCCP - 430 - Compression method 0\n",
      "2025-03-31 17:01:41,031 - PIL.PngImagePlugin - DEBUG - PngImagePlugin - call - 198 - STREAM b'eXIf' 3188 56\n",
      "2025-03-31 17:01:41,031 - PIL.PngImagePlugin - DEBUG - PngImagePlugin - call - 198 - STREAM b'IDAT' 3256 16384\n"
     ]
    },
    {
     "name": "stderr",
     "output_type": "stream",
     "text": [
      "/home/robby/miniconda3/envs/myocr/lib/python3.11/site-packages/onnxruntime/capi/onnxruntime_inference_collection.py:118: UserWarning: Specified provider 'CUDAExecutionProvider' is not in available provider names.Available providers: 'AzureExecutionProvider, CPUExecutionProvider'\n",
      "  warnings.warn(\n"
     ]
    },
    {
     "name": "stdout",
     "output_type": "stream",
     "text": [
      "2025-03-31 17:01:41,198 - myocr.predictors.text_detection_predictor - DEBUG - text_detection_predictor - convert_output - 46 - text detection output shape: (1056, 1568)\n",
      "2025-03-31 17:01:41,613 - myocr.predictors.text_recognition_predictor - DEBUG - text_recognition_predictor - convert_output - 86 - text recognition output shape: (228, 51, 5531)\n",
      "2025-03-31 17:01:41,728 - myocr.pipelines.structured_output_pipeline - DEBUG - structured_output_pipeline - __call__ - 46 - recognized texts is: [(text=家，书，, confidence=0.8455101251602173, bounding_box=(left=702, bottom=112, right=844, top=67))\n",
      ", (text=发票, confidence=0.8797306418418884, bounding_box=(left=900, bottom=110, right=1011, top=72))\n",
      ", (text=电,-千发, confidence=0.9767777919769287, bounding_box=(left=535, bottom=109, right=670, top=73))\n",
      ", (text=鑫, confidence=0.8569477796554565, bounding_box=(left=834, bottom=107, right=883, top=78))\n",
      ", (text=, confidence=0.816530704498291, bounding_box=(left=797, bottom=116, right=842, top=86))\n",
      ", (text=发票号码:24517000000216393366, confidence=0.9958486557006836, bounding_box=(left=1167, bottom=114, right=1520, top=90))\n",
      ", (text=旅客运输服务, confidence=0.9933554530143738, bounding_box=(left=246, bottom=127, right=388, top=104))\n",
      ", (text=不体, confidence=0.8423919677734375, bounding_box=(left=692, bottom=128, right=717, top=105))\n",
      ", (text=对家, confidence=0.8470991253852844, bounding_box=(left=861, bottom=128, right=889, top=106))\n",
      ", (text=国家税务总局, confidence=0.9580126404762268, bounding_box=(left=737, bottom=143, right=843, top=117))\n",
      ", (text=开票日期: 2024年10月19日, confidence=0.9943013787269592, bounding_box=(left=1167, bottom=160, right=1444, top=135))\n",
      ", (text=, confidence=0.8317644596099854, bounding_box=(left=839, bottom=174, right=866, top=146))\n",
      ", (text=, confidence=0.8202909231185913, bounding_box=(left=712, bottom=173, right=736, top=147))\n",
      ", (text=, confidence=0.8342209458351135, bounding_box=(left=734, bottom=183, right=759, top=159))\n",
      ", (text=务, confidence=0.8328402042388916, bounding_box=(left=817, bottom=184, right=844, top=159))\n",
      ", (text=, confidence=0.785036563873291, bounding_box=(left=806, bottom=183, right=827, top=163))\n",
      ", (text=税, confidence=0.9216145873069763, bounding_box=(left=763, bottom=188, right=818, top=164))\n",
      ", (text=, confidence=0.5772842168807983, bounding_box=(left=42, bottom=372, right=67, top=233))\n",
      ", (text=, confidence=0.5727744102478027, bounding_box=(left=796, bottom=375, right=822, top=233))\n",
      ", (text=名称: 北京邑邻科技有限公司, confidence=0.9866635799407959, bounding_box=(left=82, bottom=267, right=387, top=244))\n",
      ", (text=名称: 成都滴滴优行科技有限公司, confidence=0.9829469919204712, bounding_box=(left=839, bottom=267, right=1191, top=244))\n",
      ", (text=统一社会信用代码/纳税人识别号:91110105MA01Q7QUXU, confidence=0.9965965151786804, bounding_box=(left=80, bottom=350, right=737, top=327))\n",
      ", (text=统一社会信用代码/纳税人识别号:91510100MA6B7L2R7L, confidence=0.9926866888999939, bounding_box=(left=837, bottom=350, right=1492, top=327))\n",
      ", (text=单伦, confidence=0.8692229390144348, bounding_box=(left=543, bottom=417, right=605, top=389))\n",
      ", (text=数量, confidence=0.8964468836784363, bounding_box=(left=786, bottom=416, right=847, top=390))\n",
      ", (text=金 额, confidence=0.8844344615936279, bounding_box=(left=1036, bottom=416, right=1098, top=390))\n",
      ", (text=项目名称, confidence=0.974511981010437, bounding_box=(left=199, bottom=416, right=296, top=391))\n",
      ", (text=税率/征收率, confidence=0.9859482645988464, bounding_box=(left=1197, bottom=415, right=1328, top=391))\n",
      ", (text=税额, confidence=0.9206737279891968, bounding_box=(left=1474, bottom=416, right=1538, top=391))\n",
      ", (text=3, confidence=0.8206014037132263, bounding_box=(left=1247, bottom=450, right=1279, top=422))\n",
      ", (text=42, 04, confidence=0.9433178305625916, bounding_box=(left=541, bottom=449, right=606, top=423))\n",
      ", (text=1, confidence=0.8192403316497803, bounding_box=(left=806, bottom=449, right=826, top=423))\n",
      ", (text=42, 04, confidence=0.9620030522346497, bounding_box=(left=1034, bottom=449, right=1099, top=423))\n",
      ", (text=1,26, confidence=0.9285991787910461, bounding_box=(left=1486, bottom=449, right=1540, top=423))\n",
      ", (text=*运输服务*客运服务费, confidence=0.992609441280365, bounding_box=(left=34, bottom=448, right=269, top=424))\n",
      ", (text=, confidence=0.8284848928451538, bounding_box=(left=256, bottom=585, right=283, top=559))\n",
      ", (text=望42.04, confidence=0.954896092414856, bounding_box=(left=1059, bottom=584, right=1140, top=559))\n",
      ", (text=至1.26, confidence=0.8847684860229492, bounding_box=(left=1464, bottom=584, right=1534, top=559))\n",
      ", (text=, confidence=0.807772159576416, bounding_box=(left=144, bottom=586, right=169, top=561))\n",
      ", (text=等级, confidence=0.8960521817207336, bounding_box=(left=1271, bottom=616, right=1321, top=589))\n",
      ", (text=出行人, confidence=0.9227208495140076, bounding_box=(left=74, bottom=615, right=146, top=590))\n",
      ", (text=出行日期, confidence=0.9576286673545837, bounding_box=(left=518, bottom=615, right=613, top=590))\n",
      ", (text=出发地, confidence=0.9344301819801331, bounding_box=(left=766, bottom=615, right=839, top=590))\n",
      ", (text=到达地, confidence=0.9271718263626099, bounding_box=(left=1051, bottom=615, right=1124, top=590))\n",
      ", (text=有效身份证件号, confidence=0.9958988428115845, bounding_box=(left=243, bottom=615, right=410, top=591))\n",
      ", (text=交通工具类型, confidence=0.9734824299812317, bounding_box=(left=1380, bottom=615, right=1520, top=591))\n",
      ", (text=肆拾叁圆叁角, confidence=0.9889184236526489, bounding_box=(left=424, bottom=795, right=565, top=770))\n",
      ", (text=价税合计(大写), confidence=0.9940823316574097, bounding_box=(left=94, bottom=795, right=297, top=772))\n",
      ", (text=(]写)梦43.30, confidence=0.9825376272201538, bounding_box=(left=1062, bottom=798, right=1240, top=772))\n",
      ", (text=, confidence=0.8108883500099182, bounding_box=(left=40, bottom=923, right=66, top=849))\n",
      ", (text=开票人:侯娇, confidence=0.9737285375595093, bounding_box=(left=144, bottom=1026, right=294, top=1001))\n",
      "]\n",
      "2025-03-31 17:01:41,732 - openai._base_client - DEBUG - _base_client - _build_request - 453 - Request options: {'method': 'post', 'url': '/chat/completions', 'headers': {'X-Stainless-Helper-Method': 'beta.chat.completions.parse'}, 'files': None, 'post_parser': <function Completions.parse.<locals>.parser at 0x729b0015a7a0>, 'json_data': {'messages': [{'role': 'system', 'content': 'Extract the invoice information from the given texts recognized via OCR'}, {'role': 'user', 'content': '[(text=家，书，, confidence=0.8455101251602173, bounding_box=(left=702, bottom=112, right=844, top=67))\\n, (text=发票, confidence=0.8797306418418884, bounding_box=(left=900, bottom=110, right=1011, top=72))\\n, (text=电,-千发, confidence=0.9767777919769287, bounding_box=(left=535, bottom=109, right=670, top=73))\\n, (text=鑫, confidence=0.8569477796554565, bounding_box=(left=834, bottom=107, right=883, top=78))\\n, (text=, confidence=0.816530704498291, bounding_box=(left=797, bottom=116, right=842, top=86))\\n, (text=发票号码:24517000000216393366, confidence=0.9958486557006836, bounding_box=(left=1167, bottom=114, right=1520, top=90))\\n, (text=旅客运输服务, confidence=0.9933554530143738, bounding_box=(left=246, bottom=127, right=388, top=104))\\n, (text=不体, confidence=0.8423919677734375, bounding_box=(left=692, bottom=128, right=717, top=105))\\n, (text=对家, confidence=0.8470991253852844, bounding_box=(left=861, bottom=128, right=889, top=106))\\n, (text=国家税务总局, confidence=0.9580126404762268, bounding_box=(left=737, bottom=143, right=843, top=117))\\n, (text=开票日期: 2024年10月19日, confidence=0.9943013787269592, bounding_box=(left=1167, bottom=160, right=1444, top=135))\\n, (text=, confidence=0.8317644596099854, bounding_box=(left=839, bottom=174, right=866, top=146))\\n, (text=, confidence=0.8202909231185913, bounding_box=(left=712, bottom=173, right=736, top=147))\\n, (text=, confidence=0.8342209458351135, bounding_box=(left=734, bottom=183, right=759, top=159))\\n, (text=务, confidence=0.8328402042388916, bounding_box=(left=817, bottom=184, right=844, top=159))\\n, (text=, confidence=0.785036563873291, bounding_box=(left=806, bottom=183, right=827, top=163))\\n, (text=税, confidence=0.9216145873069763, bounding_box=(left=763, bottom=188, right=818, top=164))\\n, (text=, confidence=0.5772842168807983, bounding_box=(left=42, bottom=372, right=67, top=233))\\n, (text=, confidence=0.5727744102478027, bounding_box=(left=796, bottom=375, right=822, top=233))\\n, (text=名称: 北京邑邻科技有限公司, confidence=0.9866635799407959, bounding_box=(left=82, bottom=267, right=387, top=244))\\n, (text=名称: 成都滴滴优行科技有限公司, confidence=0.9829469919204712, bounding_box=(left=839, bottom=267, right=1191, top=244))\\n, (text=统一社会信用代码/纳税人识别号:91110105MA01Q7QUXU, confidence=0.9965965151786804, bounding_box=(left=80, bottom=350, right=737, top=327))\\n, (text=统一社会信用代码/纳税人识别号:91510100MA6B7L2R7L, confidence=0.9926866888999939, bounding_box=(left=837, bottom=350, right=1492, top=327))\\n, (text=单伦, confidence=0.8692229390144348, bounding_box=(left=543, bottom=417, right=605, top=389))\\n, (text=数量, confidence=0.8964468836784363, bounding_box=(left=786, bottom=416, right=847, top=390))\\n, (text=金 额, confidence=0.8844344615936279, bounding_box=(left=1036, bottom=416, right=1098, top=390))\\n, (text=项目名称, confidence=0.974511981010437, bounding_box=(left=199, bottom=416, right=296, top=391))\\n, (text=税率/征收率, confidence=0.9859482645988464, bounding_box=(left=1197, bottom=415, right=1328, top=391))\\n, (text=税额, confidence=0.9206737279891968, bounding_box=(left=1474, bottom=416, right=1538, top=391))\\n, (text=3, confidence=0.8206014037132263, bounding_box=(left=1247, bottom=450, right=1279, top=422))\\n, (text=42, 04, confidence=0.9433178305625916, bounding_box=(left=541, bottom=449, right=606, top=423))\\n, (text=1, confidence=0.8192403316497803, bounding_box=(left=806, bottom=449, right=826, top=423))\\n, (text=42, 04, confidence=0.9620030522346497, bounding_box=(left=1034, bottom=449, right=1099, top=423))\\n, (text=1,26, confidence=0.9285991787910461, bounding_box=(left=1486, bottom=449, right=1540, top=423))\\n, (text=*运输服务*客运服务费, confidence=0.992609441280365, bounding_box=(left=34, bottom=448, right=269, top=424))\\n, (text=, confidence=0.8284848928451538, bounding_box=(left=256, bottom=585, right=283, top=559))\\n, (text=望42.04, confidence=0.954896092414856, bounding_box=(left=1059, bottom=584, right=1140, top=559))\\n, (text=至1.26, confidence=0.8847684860229492, bounding_box=(left=1464, bottom=584, right=1534, top=559))\\n, (text=, confidence=0.807772159576416, bounding_box=(left=144, bottom=586, right=169, top=561))\\n, (text=等级, confidence=0.8960521817207336, bounding_box=(left=1271, bottom=616, right=1321, top=589))\\n, (text=出行人, confidence=0.9227208495140076, bounding_box=(left=74, bottom=615, right=146, top=590))\\n, (text=出行日期, confidence=0.9576286673545837, bounding_box=(left=518, bottom=615, right=613, top=590))\\n, (text=出发地, confidence=0.9344301819801331, bounding_box=(left=766, bottom=615, right=839, top=590))\\n, (text=到达地, confidence=0.9271718263626099, bounding_box=(left=1051, bottom=615, right=1124, top=590))\\n, (text=有效身份证件号, confidence=0.9958988428115845, bounding_box=(left=243, bottom=615, right=410, top=591))\\n, (text=交通工具类型, confidence=0.9734824299812317, bounding_box=(left=1380, bottom=615, right=1520, top=591))\\n, (text=肆拾叁圆叁角, confidence=0.9889184236526489, bounding_box=(left=424, bottom=795, right=565, top=770))\\n, (text=价税合计(大写), confidence=0.9940823316574097, bounding_box=(left=94, bottom=795, right=297, top=772))\\n, (text=(]写)梦43.30, confidence=0.9825376272201538, bounding_box=(left=1062, bottom=798, right=1240, top=772))\\n, (text=, confidence=0.8108883500099182, bounding_box=(left=40, bottom=923, right=66, top=849))\\n, (text=开票人:侯娇, confidence=0.9737285375595093, bounding_box=(left=144, bottom=1026, right=294, top=1001))\\n]'}], 'model': 'qwen2.5:14b', 'response_format': {'type': 'json_schema', 'json_schema': {'schema': {'$defs': {'InvoiceItem': {'properties': {'name': {'description': '发票中的项目名称', 'title': 'Name', 'type': 'string'}, 'price': {'description': '项目单价', 'title': 'Price', 'type': 'number'}, 'number': {'description': '项目数量', 'title': 'Number', 'type': 'string'}, 'tax': {'description': '项目税额，请转为两位小数表示', 'title': 'Tax', 'type': 'string'}}, 'required': ['name', 'price', 'number', 'tax'], 'title': 'InvoiceItem', 'type': 'object', 'additionalProperties': False}}, 'properties': {'invoiceNumber': {'description': '发票号码，一般在发票的又上角', 'title': 'Invoicenumber', 'type': 'string'}, 'invoiceDate': {'description': '发票日期，每张发票都有一个开票日期，一般在发票的右上角，请用这种格式展示 yyyy/MM/DD', 'title': 'Invoicedate', 'type': 'string'}, 'invoiceItems': {'description': '发票中的项目列表，这是发票中的主要内容，一般包含项目的名称，单价，数量，总价，税率，税额等，注意：这个字段是数组类型', 'items': {'$ref': '#/$defs/InvoiceItem'}, 'title': 'Invoiceitems', 'type': 'array'}, 'totalAmount': {'description': '发票的总金额', 'title': 'Totalamount', 'type': 'number'}}, 'required': ['invoiceNumber', 'invoiceDate', 'invoiceItems', 'totalAmount'], 'title': 'InvoiceModel', 'type': 'object', 'additionalProperties': False}, 'name': 'InvoiceModel', 'strict': True}}, 'stream': False}}\n",
      "2025-03-31 17:01:41,733 - openai._base_client - DEBUG - _base_client - _request - 952 - Sending HTTP Request: POST http://127.0.0.1:11434/v1/chat/completions\n",
      "2025-03-31 17:01:41,733 - httpcore.connection - DEBUG - _trace - trace - 47 - connect_tcp.started host='127.0.0.1' port=11434 local_address=None timeout=5.0 socket_options=None\n",
      "2025-03-31 17:01:41,733 - httpcore.connection - DEBUG - _trace - trace - 47 - connect_tcp.complete return_value=<httpcore._backends.sync.SyncStream object at 0x729b0c64a850>\n",
      "2025-03-31 17:01:41,734 - httpcore.http11 - DEBUG - _trace - trace - 47 - send_request_headers.started request=<Request [b'POST']>\n",
      "2025-03-31 17:01:41,734 - httpcore.http11 - DEBUG - _trace - trace - 47 - send_request_headers.complete\n",
      "2025-03-31 17:01:41,734 - httpcore.http11 - DEBUG - _trace - trace - 47 - send_request_body.started request=<Request [b'POST']>\n",
      "2025-03-31 17:01:41,734 - httpcore.http11 - DEBUG - _trace - trace - 47 - send_request_body.complete\n",
      "2025-03-31 17:01:41,735 - httpcore.http11 - DEBUG - _trace - trace - 47 - receive_response_headers.started request=<Request [b'POST']>\n",
      "2025-03-31 17:01:43,821 - httpcore.http11 - DEBUG - _trace - trace - 47 - receive_response_headers.complete return_value=(b'HTTP/1.1', 200, b'OK', [(b'Content-Type', b'application/json'), (b'Date', b'Mon, 31 Mar 2025 09:01:43 GMT'), (b'Content-Length', b'591')])\n",
      "2025-03-31 17:01:43,822 - httpx - INFO - _client - _send_single_request - 1025 - HTTP Request: POST http://127.0.0.1:11434/v1/chat/completions \"HTTP/1.1 200 OK\"\n",
      "2025-03-31 17:01:43,823 - httpcore.http11 - DEBUG - _trace - trace - 47 - receive_response_body.started request=<Request [b'POST']>\n",
      "2025-03-31 17:01:43,823 - httpcore.http11 - DEBUG - _trace - trace - 47 - receive_response_body.complete\n",
      "2025-03-31 17:01:43,824 - httpcore.http11 - DEBUG - _trace - trace - 47 - response_closed.started\n",
      "2025-03-31 17:01:43,824 - httpcore.http11 - DEBUG - _trace - trace - 47 - response_closed.complete\n",
      "2025-03-31 17:01:43,825 - openai._base_client - DEBUG - _base_client - _request - 991 - HTTP Response: POST http://127.0.0.1:11434/v1/chat/completions \"200 OK\" Headers({'content-type': 'application/json', 'date': 'Mon, 31 Mar 2025 09:01:43 GMT', 'content-length': '591'})\n",
      "2025-03-31 17:01:43,825 - openai._base_client - DEBUG - _base_client - _request - 999 - request_id: None\n"
     ]
    },
    {
     "data": {
      "text/plain": [
       "InvoiceModel(invoiceNumber='', invoiceDate='', invoiceItems=[InvoiceItem(name='*运输服务*客运服务费', price=42.04, number='For tax calculation purposes.', tax='For tax calculation purposes.')], totalAmount=43.3)"
      ]
     },
     "execution_count": 1,
     "metadata": {},
     "output_type": "execute_result"
    }
   ],
   "source": [
    "from pydantic import BaseModel, Field\n",
    "from myocr.pipelines.structured_output_pipeline import StructuredOutputOCRPipeline\n",
    "\n",
    "\n",
    "class InvoiceItem(BaseModel):\n",
    "    name:str = Field(\n",
    "        description=\"发票中的项目名称\"\n",
    "    )\n",
    "    price:float = Field(\n",
    "        description=\"项目单价\"\n",
    "    )\n",
    "    number:str = Field(\n",
    "        description=\"项目数量\"\n",
    "    )\n",
    "    tax:str = Field(\n",
    "        description=\"项目税额，请转为两位小数表示\"\n",
    "    )\n",
    "\n",
    "class InvoiceModel(BaseModel):\n",
    "    invoiceNumber:str = Field(\n",
    "        description=\"发票号码，一般在发票的又上角\"\n",
    "    )\n",
    "    invoiceDate:str = Field(\n",
    "        description=\"发票日期，每张发票都有一个开票日期，一般在发票的右上角，请用这种格式展示 yyyy/MM/DD\"\n",
    "    )\n",
    "    invoiceItems: list[InvoiceItem] = Field(\n",
    "        description=\"发票中的项目列表，这是发票中的主要内容，一般包含项目的名称，单价，数量，总价，税率，税额等，注意：这个字段是数组类型\"\n",
    "    )\n",
    "    totalAmount:float = Field(\n",
    "        description=\"发票的总金额\"\n",
    "    )\n",
    "\n",
    "\n",
    "pipeline = StructuredOutputOCRPipeline(\"cuda:0\", InvoiceModel)\n",
    "pipeline(\"images/invoice.png\")\n",
    "\n"
   ]
  }
 ],
 "metadata": {
  "kernelspec": {
   "display_name": "myocr",
   "language": "python",
   "name": "python3"
  },
  "language_info": {
   "codemirror_mode": {
    "name": "ipython",
    "version": 3
   },
   "file_extension": ".py",
   "mimetype": "text/x-python",
   "name": "python",
   "nbconvert_exporter": "python",
   "pygments_lexer": "ipython3",
   "version": "3.11.11"
  }
 },
 "nbformat": 4,
 "nbformat_minor": 2
}
