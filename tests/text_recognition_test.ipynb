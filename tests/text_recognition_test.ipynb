{
 "cells": [
  {
   "cell_type": "code",
   "execution_count": null,
   "metadata": {},
   "outputs": [
    {
     "name": "stderr",
     "output_type": "stream",
     "text": [
      "/home/robby/miniconda3/envs/myocr/lib/python3.11/site-packages/onnxruntime/capi/onnxruntime_inference_collection.py:118: UserWarning: Specified provider 'CUDAExecutionProvider' is not in available provider names.Available providers: 'AzureExecutionProvider, CPUExecutionProvider'\n",
      "  warnings.warn(\n",
      "INFO:root:Onnx model /home/robby/.MyOCR/models/dbnet++.onnx loaded to cuda:0\n",
      "INFO:root:Onnx model /home/robby/.MyOCR/models/crnn_lite_lstm.onnx loaded to cuda:0\n"
     ]
    },
    {
     "name": "stdout",
     "output_type": "stream",
     "text": [
      "detected: None\n",
      "Nothing detected\n"
     ]
    }
   ],
   "source": [
    "import time\n",
    "import torch\n",
    "from PIL import Image,ImageDraw\n",
    "from myocr.config import MODEL_PATH\n",
    "from myocr.models.model import ModelZoo\n",
    "from myocr.predictors.text_detection_predictor import TextDetectionParamConverter\n",
    "from myocr.predictors.text_recognition_predictor import TextRecognitionParamConverter\n",
    "\n",
    "orig_image = Image.open(\"images/flower.png\").convert(\"RGB\")\n",
    "\n",
    "dec = ModelZoo.load_model(\"onnx\", MODEL_PATH+\"dbnet++.onnx\", \"cuda:0\" if torch.cuda.is_available() else \"cpu\")\n",
    "model = ModelZoo.load_model(\"onnx\", MODEL_PATH+\"crnn_lite_lstm.onnx\", \"cuda:0\" if torch.cuda.is_available() else \"cpu\")\n",
    "\n",
    "start_time = time.time()\n",
    "dec_predictor = dec.predictor(TextDetectionParamConverter(dec.device))\n",
    "detected = dec_predictor.predict(orig_image)\n",
    "if not detected:\n",
    "    print(\"Nothing detected\")\n",
    "else:\n",
    "    cvt = TextRecognitionParamConverter()\n",
    "    p = model.predictor(cvt)\n",
    "    rec = p.predict(detected)\n",
    "    ent_time = time.time()\n",
    "    print(f\"predict cost: {ent_time-start_time} \\nresult:{rec}\")\n",
    "    draw = ImageDraw.Draw(orig_image)\n",
    "    for box in detected.bounding_boxes: # type: ignore\n",
    "        draw.polygon(\n",
    "            [(box.left, box.bottom), (box.left, box.top), (box.right, box.top), (box.right, box.bottom)],\n",
    "            outline=\"red\",\n",
    "            width=2,\n",
    "        )\n",
    "\n",
    "    display(orig_image)\n",
    "    if cvt.retain_croped_imgs:\n",
    "        for img in cvt.croped_imgs:\n",
    "            display(img)\n",
    "\n",
    "\n"
   ]
  }
 ],
 "metadata": {
  "kernelspec": {
   "display_name": "myocr",
   "language": "python",
   "name": "python3"
  },
  "language_info": {
   "codemirror_mode": {
    "name": "ipython",
    "version": 3
   },
   "file_extension": ".py",
   "mimetype": "text/x-python",
   "name": "python",
   "nbconvert_exporter": "python",
   "pygments_lexer": "ipython3",
   "version": "3.11.11"
  }
 },
 "nbformat": 4,
 "nbformat_minor": 2
}
